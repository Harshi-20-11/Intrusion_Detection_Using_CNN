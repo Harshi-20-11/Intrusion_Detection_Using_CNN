{
  "cells": [
    {
      "cell_type": "code",
      "source": [
        "from google.colab import drive\n",
        "drive.mount('/content/drive')"
      ],
      "metadata": {
        "id": "-Nr3WkRgqrWZ",
        "colab": {
          "base_uri": "https://localhost:8080/"
        },
        "outputId": "c2a46cd1-cc80-4b0e-a678-88a673cc09de"
      },
      "execution_count": null,
      "outputs": [
        {
          "output_type": "stream",
          "name": "stdout",
          "text": [
            "Drive already mounted at /content/drive; to attempt to forcibly remount, call drive.mount(\"/content/drive\", force_remount=True).\n"
          ]
        }
      ]
    },
    {
      "cell_type": "code",
      "execution_count": null,
      "metadata": {
        "id": "7NIbLJwGId5t"
      },
      "outputs": [],
      "source": [
        "import pandas as pd\n",
        "data = pd.read_csv(\"/content/drive/MyDrive/combined sinargyl 150000.csv\")"
      ]
    },
    {
      "cell_type": "code",
      "source": [
        "import pandas as pd\n",
        "\n",
        "# Assuming 'data' is your DataFrame\n",
        "data = pd.read_csv(\"/content/drive/MyDrive/combined sinargyl 150000.csv\")\n",
        "data = pd.DataFrame(data)\n",
        "\n",
        "# Drop one or more columns\n",
        "columns_to_drop = ['PROTOCOL_MAP', 'ANALYSIS_TIMESTAMP','IPV4_SRC_ADDR','IPV4_DST_ADDR']\n",
        "data = data.drop(columns=columns_to_drop)\n",
        "\n",
        "# The 'df' DataFrame now contains only 'column1'\n",
        "print(data)"
      ],
      "metadata": {
        "id": "MCGpTTaPsQwV",
        "colab": {
          "base_uri": "https://localhost:8080/"
        },
        "outputId": "72ccf706-a23c-4bf0-a89b-9f1fc00063e8"
      },
      "execution_count": null,
      "outputs": [
        {
          "output_type": "stream",
          "name": "stdout",
          "text": [
            "         FLOW_ID  L4_SRC_PORT  L4_DST_PORT  FIRST_SWITCHED  \\\n",
            "0      355777589        35264          443      1647510508   \n",
            "1      355777590        35266          443      1647510508   \n",
            "2      355777591        35268          443      1647510508   \n",
            "3      355777592        35270          443      1647510508   \n",
            "4      355777593        34928          443      1647510507   \n",
            "...          ...          ...          ...             ...   \n",
            "29993  318805705        45200        23901      1647331434   \n",
            "29994  318805706        45200        61826      1647331434   \n",
            "29995  318805707        45200        10308      1647331434   \n",
            "29996  318805708        45200         9210      1647331434   \n",
            "29997  318805709        45200        65515      1647331434   \n",
            "\n",
            "       FLOW_DURATION_MILLISECONDS  LAST_SWITCHED  PROTOCOL  TCP_FLAGS  \\\n",
            "0                               0     1647510508         6          2   \n",
            "1                               0     1647510508         6          2   \n",
            "2                               0     1647510508         6          2   \n",
            "3                               0     1647510508         6          2   \n",
            "4                            1000     1647510508         6          2   \n",
            "...                           ...            ...       ...        ...   \n",
            "29993                           0     1647331434         6          2   \n",
            "29994                           0     1647331434         6         22   \n",
            "29995                           0     1647331434         6         22   \n",
            "29996                           0     1647331434         6         22   \n",
            "29997                           0     1647331434         6         22   \n",
            "\n",
            "       TCP_WIN_MAX_IN  TCP_WIN_MAX_OUT  ...  TOTAL_FLOWS_EXP  MIN_IP_PKT_LEN  \\\n",
            "0               64240                0  ...        355777589               0   \n",
            "1               64240                0  ...        355777590               0   \n",
            "2               64240                0  ...        355777591               0   \n",
            "3               64240                0  ...        355777592               0   \n",
            "4               64240                0  ...        355777593               0   \n",
            "...               ...              ...  ...              ...             ...   \n",
            "29993            1024                0  ...        318805705               0   \n",
            "29994            1024                0  ...        318805706               0   \n",
            "29995            1024                0  ...        318805707               0   \n",
            "29996            1024                0  ...        318805708               0   \n",
            "29997            1024                0  ...        318805709               0   \n",
            "\n",
            "       MAX_IP_PKT_LEN  TOTAL_PKTS_EXP  TOTAL_BYTES_EXP  IN_BYTES  IN_PKTS  \\\n",
            "0                   0               0                0        60        1   \n",
            "1                   0               0                0        60        1   \n",
            "2                   0               0                0        60        1   \n",
            "3                   0               0                0        60        1   \n",
            "4                   0               0                0       120        2   \n",
            "...               ...             ...              ...       ...      ...   \n",
            "29993               0               0                0        44        1   \n",
            "29994               0               0                0        44        1   \n",
            "29995               0               0                0        44        1   \n",
            "29996               0               0                0        44        1   \n",
            "29997               0               0                0        44        1   \n",
            "\n",
            "       OUT_BYTES  OUT_PKTS              ALERT  \n",
            "0              0         0  Denial of Service  \n",
            "1              0         0  Denial of Service  \n",
            "2              0         0  Denial of Service  \n",
            "3              0         0  Denial of Service  \n",
            "4              0         0  Denial of Service  \n",
            "...          ...       ...                ...  \n",
            "29993          0         0      Port Scanning  \n",
            "29994         40         1      Port Scanning  \n",
            "29995         40         1      Port Scanning  \n",
            "29996         40         1      Port Scanning  \n",
            "29997         40         1      Port Scanning  \n",
            "\n",
            "[29998 rows x 27 columns]\n"
          ]
        }
      ]
    },
    {
      "cell_type": "code",
      "execution_count": null,
      "metadata": {
        "colab": {
          "base_uri": "https://localhost:8080/",
          "height": 429
        },
        "id": "jC0nOB6UKg9D",
        "outputId": "917796d3-743b-45dd-e193-5701fb3fa173"
      },
      "outputs": [
        {
          "output_type": "execute_result",
          "data": {
            "text/plain": [
              "     FLOW_ID  L4_SRC_PORT  L4_DST_PORT  FIRST_SWITCHED  \\\n",
              "0  355777589        35264          443      1647510508   \n",
              "1  355777590        35266          443      1647510508   \n",
              "2  355777591        35268          443      1647510508   \n",
              "3  355777592        35270          443      1647510508   \n",
              "4  355777593        34928          443      1647510507   \n",
              "\n",
              "   FLOW_DURATION_MILLISECONDS  LAST_SWITCHED  PROTOCOL  TCP_FLAGS  \\\n",
              "0                           0     1647510508         6          2   \n",
              "1                           0     1647510508         6          2   \n",
              "2                           0     1647510508         6          2   \n",
              "3                           0     1647510508         6          2   \n",
              "4                        1000     1647510508         6          2   \n",
              "\n",
              "   TCP_WIN_MAX_IN  TCP_WIN_MAX_OUT  ...  TOTAL_FLOWS_EXP  MIN_IP_PKT_LEN  \\\n",
              "0           64240                0  ...        355777589               0   \n",
              "1           64240                0  ...        355777590               0   \n",
              "2           64240                0  ...        355777591               0   \n",
              "3           64240                0  ...        355777592               0   \n",
              "4           64240                0  ...        355777593               0   \n",
              "\n",
              "   MAX_IP_PKT_LEN  TOTAL_PKTS_EXP  TOTAL_BYTES_EXP  IN_BYTES  IN_PKTS  \\\n",
              "0               0               0                0        60        1   \n",
              "1               0               0                0        60        1   \n",
              "2               0               0                0        60        1   \n",
              "3               0               0                0        60        1   \n",
              "4               0               0                0       120        2   \n",
              "\n",
              "   OUT_BYTES  OUT_PKTS              ALERT  \n",
              "0          0         0  Denial of Service  \n",
              "1          0         0  Denial of Service  \n",
              "2          0         0  Denial of Service  \n",
              "3          0         0  Denial of Service  \n",
              "4          0         0  Denial of Service  \n",
              "\n",
              "[5 rows x 27 columns]"
            ],
            "text/html": [
              "\n",
              "  <div id=\"df-a90ab842-c632-49e4-bc2d-b87d0580bc03\" class=\"colab-df-container\">\n",
              "    <div>\n",
              "<style scoped>\n",
              "    .dataframe tbody tr th:only-of-type {\n",
              "        vertical-align: middle;\n",
              "    }\n",
              "\n",
              "    .dataframe tbody tr th {\n",
              "        vertical-align: top;\n",
              "    }\n",
              "\n",
              "    .dataframe thead th {\n",
              "        text-align: right;\n",
              "    }\n",
              "</style>\n",
              "<table border=\"1\" class=\"dataframe\">\n",
              "  <thead>\n",
              "    <tr style=\"text-align: right;\">\n",
              "      <th></th>\n",
              "      <th>FLOW_ID</th>\n",
              "      <th>L4_SRC_PORT</th>\n",
              "      <th>L4_DST_PORT</th>\n",
              "      <th>FIRST_SWITCHED</th>\n",
              "      <th>FLOW_DURATION_MILLISECONDS</th>\n",
              "      <th>LAST_SWITCHED</th>\n",
              "      <th>PROTOCOL</th>\n",
              "      <th>TCP_FLAGS</th>\n",
              "      <th>TCP_WIN_MAX_IN</th>\n",
              "      <th>TCP_WIN_MAX_OUT</th>\n",
              "      <th>...</th>\n",
              "      <th>TOTAL_FLOWS_EXP</th>\n",
              "      <th>MIN_IP_PKT_LEN</th>\n",
              "      <th>MAX_IP_PKT_LEN</th>\n",
              "      <th>TOTAL_PKTS_EXP</th>\n",
              "      <th>TOTAL_BYTES_EXP</th>\n",
              "      <th>IN_BYTES</th>\n",
              "      <th>IN_PKTS</th>\n",
              "      <th>OUT_BYTES</th>\n",
              "      <th>OUT_PKTS</th>\n",
              "      <th>ALERT</th>\n",
              "    </tr>\n",
              "  </thead>\n",
              "  <tbody>\n",
              "    <tr>\n",
              "      <th>0</th>\n",
              "      <td>355777589</td>\n",
              "      <td>35264</td>\n",
              "      <td>443</td>\n",
              "      <td>1647510508</td>\n",
              "      <td>0</td>\n",
              "      <td>1647510508</td>\n",
              "      <td>6</td>\n",
              "      <td>2</td>\n",
              "      <td>64240</td>\n",
              "      <td>0</td>\n",
              "      <td>...</td>\n",
              "      <td>355777589</td>\n",
              "      <td>0</td>\n",
              "      <td>0</td>\n",
              "      <td>0</td>\n",
              "      <td>0</td>\n",
              "      <td>60</td>\n",
              "      <td>1</td>\n",
              "      <td>0</td>\n",
              "      <td>0</td>\n",
              "      <td>Denial of Service</td>\n",
              "    </tr>\n",
              "    <tr>\n",
              "      <th>1</th>\n",
              "      <td>355777590</td>\n",
              "      <td>35266</td>\n",
              "      <td>443</td>\n",
              "      <td>1647510508</td>\n",
              "      <td>0</td>\n",
              "      <td>1647510508</td>\n",
              "      <td>6</td>\n",
              "      <td>2</td>\n",
              "      <td>64240</td>\n",
              "      <td>0</td>\n",
              "      <td>...</td>\n",
              "      <td>355777590</td>\n",
              "      <td>0</td>\n",
              "      <td>0</td>\n",
              "      <td>0</td>\n",
              "      <td>0</td>\n",
              "      <td>60</td>\n",
              "      <td>1</td>\n",
              "      <td>0</td>\n",
              "      <td>0</td>\n",
              "      <td>Denial of Service</td>\n",
              "    </tr>\n",
              "    <tr>\n",
              "      <th>2</th>\n",
              "      <td>355777591</td>\n",
              "      <td>35268</td>\n",
              "      <td>443</td>\n",
              "      <td>1647510508</td>\n",
              "      <td>0</td>\n",
              "      <td>1647510508</td>\n",
              "      <td>6</td>\n",
              "      <td>2</td>\n",
              "      <td>64240</td>\n",
              "      <td>0</td>\n",
              "      <td>...</td>\n",
              "      <td>355777591</td>\n",
              "      <td>0</td>\n",
              "      <td>0</td>\n",
              "      <td>0</td>\n",
              "      <td>0</td>\n",
              "      <td>60</td>\n",
              "      <td>1</td>\n",
              "      <td>0</td>\n",
              "      <td>0</td>\n",
              "      <td>Denial of Service</td>\n",
              "    </tr>\n",
              "    <tr>\n",
              "      <th>3</th>\n",
              "      <td>355777592</td>\n",
              "      <td>35270</td>\n",
              "      <td>443</td>\n",
              "      <td>1647510508</td>\n",
              "      <td>0</td>\n",
              "      <td>1647510508</td>\n",
              "      <td>6</td>\n",
              "      <td>2</td>\n",
              "      <td>64240</td>\n",
              "      <td>0</td>\n",
              "      <td>...</td>\n",
              "      <td>355777592</td>\n",
              "      <td>0</td>\n",
              "      <td>0</td>\n",
              "      <td>0</td>\n",
              "      <td>0</td>\n",
              "      <td>60</td>\n",
              "      <td>1</td>\n",
              "      <td>0</td>\n",
              "      <td>0</td>\n",
              "      <td>Denial of Service</td>\n",
              "    </tr>\n",
              "    <tr>\n",
              "      <th>4</th>\n",
              "      <td>355777593</td>\n",
              "      <td>34928</td>\n",
              "      <td>443</td>\n",
              "      <td>1647510507</td>\n",
              "      <td>1000</td>\n",
              "      <td>1647510508</td>\n",
              "      <td>6</td>\n",
              "      <td>2</td>\n",
              "      <td>64240</td>\n",
              "      <td>0</td>\n",
              "      <td>...</td>\n",
              "      <td>355777593</td>\n",
              "      <td>0</td>\n",
              "      <td>0</td>\n",
              "      <td>0</td>\n",
              "      <td>0</td>\n",
              "      <td>120</td>\n",
              "      <td>2</td>\n",
              "      <td>0</td>\n",
              "      <td>0</td>\n",
              "      <td>Denial of Service</td>\n",
              "    </tr>\n",
              "  </tbody>\n",
              "</table>\n",
              "<p>5 rows × 27 columns</p>\n",
              "</div>\n",
              "    <div class=\"colab-df-buttons\">\n",
              "\n",
              "  <div class=\"colab-df-container\">\n",
              "    <button class=\"colab-df-convert\" onclick=\"convertToInteractive('df-a90ab842-c632-49e4-bc2d-b87d0580bc03')\"\n",
              "            title=\"Convert this dataframe to an interactive table.\"\n",
              "            style=\"display:none;\">\n",
              "\n",
              "  <svg xmlns=\"http://www.w3.org/2000/svg\" height=\"24px\" viewBox=\"0 -960 960 960\">\n",
              "    <path d=\"M120-120v-720h720v720H120Zm60-500h600v-160H180v160Zm220 220h160v-160H400v160Zm0 220h160v-160H400v160ZM180-400h160v-160H180v160Zm440 0h160v-160H620v160ZM180-180h160v-160H180v160Zm440 0h160v-160H620v160Z\"/>\n",
              "  </svg>\n",
              "    </button>\n",
              "\n",
              "  <style>\n",
              "    .colab-df-container {\n",
              "      display:flex;\n",
              "      gap: 12px;\n",
              "    }\n",
              "\n",
              "    .colab-df-convert {\n",
              "      background-color: #E8F0FE;\n",
              "      border: none;\n",
              "      border-radius: 50%;\n",
              "      cursor: pointer;\n",
              "      display: none;\n",
              "      fill: #1967D2;\n",
              "      height: 32px;\n",
              "      padding: 0 0 0 0;\n",
              "      width: 32px;\n",
              "    }\n",
              "\n",
              "    .colab-df-convert:hover {\n",
              "      background-color: #E2EBFA;\n",
              "      box-shadow: 0px 1px 2px rgba(60, 64, 67, 0.3), 0px 1px 3px 1px rgba(60, 64, 67, 0.15);\n",
              "      fill: #174EA6;\n",
              "    }\n",
              "\n",
              "    .colab-df-buttons div {\n",
              "      margin-bottom: 4px;\n",
              "    }\n",
              "\n",
              "    [theme=dark] .colab-df-convert {\n",
              "      background-color: #3B4455;\n",
              "      fill: #D2E3FC;\n",
              "    }\n",
              "\n",
              "    [theme=dark] .colab-df-convert:hover {\n",
              "      background-color: #434B5C;\n",
              "      box-shadow: 0px 1px 3px 1px rgba(0, 0, 0, 0.15);\n",
              "      filter: drop-shadow(0px 1px 2px rgba(0, 0, 0, 0.3));\n",
              "      fill: #FFFFFF;\n",
              "    }\n",
              "  </style>\n",
              "\n",
              "    <script>\n",
              "      const buttonEl =\n",
              "        document.querySelector('#df-a90ab842-c632-49e4-bc2d-b87d0580bc03 button.colab-df-convert');\n",
              "      buttonEl.style.display =\n",
              "        google.colab.kernel.accessAllowed ? 'block' : 'none';\n",
              "\n",
              "      async function convertToInteractive(key) {\n",
              "        const element = document.querySelector('#df-a90ab842-c632-49e4-bc2d-b87d0580bc03');\n",
              "        const dataTable =\n",
              "          await google.colab.kernel.invokeFunction('convertToInteractive',\n",
              "                                                    [key], {});\n",
              "        if (!dataTable) return;\n",
              "\n",
              "        const docLinkHtml = 'Like what you see? Visit the ' +\n",
              "          '<a target=\"_blank\" href=https://colab.research.google.com/notebooks/data_table.ipynb>data table notebook</a>'\n",
              "          + ' to learn more about interactive tables.';\n",
              "        element.innerHTML = '';\n",
              "        dataTable['output_type'] = 'display_data';\n",
              "        await google.colab.output.renderOutput(dataTable, element);\n",
              "        const docLink = document.createElement('div');\n",
              "        docLink.innerHTML = docLinkHtml;\n",
              "        element.appendChild(docLink);\n",
              "      }\n",
              "    </script>\n",
              "  </div>\n",
              "\n",
              "\n",
              "<div id=\"df-484ceef5-cd4c-4663-a0d3-096e20c1c714\">\n",
              "  <button class=\"colab-df-quickchart\" onclick=\"quickchart('df-484ceef5-cd4c-4663-a0d3-096e20c1c714')\"\n",
              "            title=\"Suggest charts\"\n",
              "            style=\"display:none;\">\n",
              "\n",
              "<svg xmlns=\"http://www.w3.org/2000/svg\" height=\"24px\"viewBox=\"0 0 24 24\"\n",
              "     width=\"24px\">\n",
              "    <g>\n",
              "        <path d=\"M19 3H5c-1.1 0-2 .9-2 2v14c0 1.1.9 2 2 2h14c1.1 0 2-.9 2-2V5c0-1.1-.9-2-2-2zM9 17H7v-7h2v7zm4 0h-2V7h2v10zm4 0h-2v-4h2v4z\"/>\n",
              "    </g>\n",
              "</svg>\n",
              "  </button>\n",
              "\n",
              "<style>\n",
              "  .colab-df-quickchart {\n",
              "      --bg-color: #E8F0FE;\n",
              "      --fill-color: #1967D2;\n",
              "      --hover-bg-color: #E2EBFA;\n",
              "      --hover-fill-color: #174EA6;\n",
              "      --disabled-fill-color: #AAA;\n",
              "      --disabled-bg-color: #DDD;\n",
              "  }\n",
              "\n",
              "  [theme=dark] .colab-df-quickchart {\n",
              "      --bg-color: #3B4455;\n",
              "      --fill-color: #D2E3FC;\n",
              "      --hover-bg-color: #434B5C;\n",
              "      --hover-fill-color: #FFFFFF;\n",
              "      --disabled-bg-color: #3B4455;\n",
              "      --disabled-fill-color: #666;\n",
              "  }\n",
              "\n",
              "  .colab-df-quickchart {\n",
              "    background-color: var(--bg-color);\n",
              "    border: none;\n",
              "    border-radius: 50%;\n",
              "    cursor: pointer;\n",
              "    display: none;\n",
              "    fill: var(--fill-color);\n",
              "    height: 32px;\n",
              "    padding: 0;\n",
              "    width: 32px;\n",
              "  }\n",
              "\n",
              "  .colab-df-quickchart:hover {\n",
              "    background-color: var(--hover-bg-color);\n",
              "    box-shadow: 0 1px 2px rgba(60, 64, 67, 0.3), 0 1px 3px 1px rgba(60, 64, 67, 0.15);\n",
              "    fill: var(--button-hover-fill-color);\n",
              "  }\n",
              "\n",
              "  .colab-df-quickchart-complete:disabled,\n",
              "  .colab-df-quickchart-complete:disabled:hover {\n",
              "    background-color: var(--disabled-bg-color);\n",
              "    fill: var(--disabled-fill-color);\n",
              "    box-shadow: none;\n",
              "  }\n",
              "\n",
              "  .colab-df-spinner {\n",
              "    border: 2px solid var(--fill-color);\n",
              "    border-color: transparent;\n",
              "    border-bottom-color: var(--fill-color);\n",
              "    animation:\n",
              "      spin 1s steps(1) infinite;\n",
              "  }\n",
              "\n",
              "  @keyframes spin {\n",
              "    0% {\n",
              "      border-color: transparent;\n",
              "      border-bottom-color: var(--fill-color);\n",
              "      border-left-color: var(--fill-color);\n",
              "    }\n",
              "    20% {\n",
              "      border-color: transparent;\n",
              "      border-left-color: var(--fill-color);\n",
              "      border-top-color: var(--fill-color);\n",
              "    }\n",
              "    30% {\n",
              "      border-color: transparent;\n",
              "      border-left-color: var(--fill-color);\n",
              "      border-top-color: var(--fill-color);\n",
              "      border-right-color: var(--fill-color);\n",
              "    }\n",
              "    40% {\n",
              "      border-color: transparent;\n",
              "      border-right-color: var(--fill-color);\n",
              "      border-top-color: var(--fill-color);\n",
              "    }\n",
              "    60% {\n",
              "      border-color: transparent;\n",
              "      border-right-color: var(--fill-color);\n",
              "    }\n",
              "    80% {\n",
              "      border-color: transparent;\n",
              "      border-right-color: var(--fill-color);\n",
              "      border-bottom-color: var(--fill-color);\n",
              "    }\n",
              "    90% {\n",
              "      border-color: transparent;\n",
              "      border-bottom-color: var(--fill-color);\n",
              "    }\n",
              "  }\n",
              "</style>\n",
              "\n",
              "  <script>\n",
              "    async function quickchart(key) {\n",
              "      const quickchartButtonEl =\n",
              "        document.querySelector('#' + key + ' button');\n",
              "      quickchartButtonEl.disabled = true;  // To prevent multiple clicks.\n",
              "      quickchartButtonEl.classList.add('colab-df-spinner');\n",
              "      try {\n",
              "        const charts = await google.colab.kernel.invokeFunction(\n",
              "            'suggestCharts', [key], {});\n",
              "      } catch (error) {\n",
              "        console.error('Error during call to suggestCharts:', error);\n",
              "      }\n",
              "      quickchartButtonEl.classList.remove('colab-df-spinner');\n",
              "      quickchartButtonEl.classList.add('colab-df-quickchart-complete');\n",
              "    }\n",
              "    (() => {\n",
              "      let quickchartButtonEl =\n",
              "        document.querySelector('#df-484ceef5-cd4c-4663-a0d3-096e20c1c714 button');\n",
              "      quickchartButtonEl.style.display =\n",
              "        google.colab.kernel.accessAllowed ? 'block' : 'none';\n",
              "    })();\n",
              "  </script>\n",
              "</div>\n",
              "\n",
              "    </div>\n",
              "  </div>\n"
            ],
            "application/vnd.google.colaboratory.intrinsic+json": {
              "type": "dataframe",
              "variable_name": "data"
            }
          },
          "metadata": {},
          "execution_count": 6
        }
      ],
      "source": [
        "data.head()"
      ]
    },
    {
      "cell_type": "code",
      "execution_count": null,
      "metadata": {
        "id": "bpzz2ga8Kn1_",
        "colab": {
          "base_uri": "https://localhost:8080/"
        },
        "outputId": "418dccbf-c35f-4fac-fd15-6dfca3375abf"
      },
      "outputs": [
        {
          "output_type": "execute_result",
          "data": {
            "text/plain": [
              "Index(['FLOW_ID', 'L4_SRC_PORT', 'L4_DST_PORT', 'FIRST_SWITCHED',\n",
              "       'FLOW_DURATION_MILLISECONDS', 'LAST_SWITCHED', 'PROTOCOL', 'TCP_FLAGS',\n",
              "       'TCP_WIN_MAX_IN', 'TCP_WIN_MAX_OUT', 'TCP_WIN_MIN_IN',\n",
              "       'TCP_WIN_MIN_OUT', 'TCP_WIN_MSS_IN', 'TCP_WIN_SCALE_IN',\n",
              "       'TCP_WIN_SCALE_OUT', 'SRC_TOS', 'DST_TOS', 'TOTAL_FLOWS_EXP',\n",
              "       'MIN_IP_PKT_LEN', 'MAX_IP_PKT_LEN', 'TOTAL_PKTS_EXP', 'TOTAL_BYTES_EXP',\n",
              "       'IN_BYTES', 'IN_PKTS', 'OUT_BYTES', 'OUT_PKTS', 'ALERT'],\n",
              "      dtype='object')"
            ]
          },
          "metadata": {},
          "execution_count": 7
        }
      ],
      "source": [
        "data.columns"
      ]
    },
    {
      "cell_type": "code",
      "execution_count": null,
      "metadata": {
        "id": "evRnWditNVIL",
        "colab": {
          "base_uri": "https://localhost:8080/"
        },
        "outputId": "150bd0b8-6623-432b-e24d-94277af29388"
      },
      "outputs": [
        {
          "output_type": "execute_result",
          "data": {
            "text/plain": [
              "27"
            ]
          },
          "metadata": {},
          "execution_count": 8
        }
      ],
      "source": [
        "len(data.columns)"
      ]
    },
    {
      "cell_type": "code",
      "execution_count": null,
      "metadata": {
        "id": "AuhMiZ4eK0DQ",
        "colab": {
          "base_uri": "https://localhost:8080/"
        },
        "outputId": "cb8b0d7e-b4e1-4c2e-e147-ba96a8b85367"
      },
      "outputs": [
        {
          "output_type": "execute_result",
          "data": {
            "text/plain": [
              "29998"
            ]
          },
          "metadata": {},
          "execution_count": 9
        }
      ],
      "source": [
        "len(data)"
      ]
    },
    {
      "cell_type": "code",
      "execution_count": null,
      "metadata": {
        "id": "9-Hz8CvBRDKH",
        "colab": {
          "base_uri": "https://localhost:8080/",
          "height": 617
        },
        "outputId": "a2dba05e-cdde-4ce2-d23c-83e5bf0d84ff"
      },
      "outputs": [
        {
          "output_type": "execute_result",
          "data": {
            "text/plain": [
              "         FLOW_ID  L4_SRC_PORT  L4_DST_PORT  FIRST_SWITCHED  \\\n",
              "0      355777589        35264          443      1647510508   \n",
              "1      355777590        35266          443      1647510508   \n",
              "2      355777591        35268          443      1647510508   \n",
              "3      355777592        35270          443      1647510508   \n",
              "4      355777593        34928          443      1647510507   \n",
              "...          ...          ...          ...             ...   \n",
              "29993  318805705        45200        23901      1647331434   \n",
              "29994  318805706        45200        61826      1647331434   \n",
              "29995  318805707        45200        10308      1647331434   \n",
              "29996  318805708        45200         9210      1647331434   \n",
              "29997  318805709        45200        65515      1647331434   \n",
              "\n",
              "       FLOW_DURATION_MILLISECONDS  LAST_SWITCHED  PROTOCOL  TCP_FLAGS  \\\n",
              "0                               0     1647510508         6          2   \n",
              "1                               0     1647510508         6          2   \n",
              "2                               0     1647510508         6          2   \n",
              "3                               0     1647510508         6          2   \n",
              "4                            1000     1647510508         6          2   \n",
              "...                           ...            ...       ...        ...   \n",
              "29993                           0     1647331434         6          2   \n",
              "29994                           0     1647331434         6         22   \n",
              "29995                           0     1647331434         6         22   \n",
              "29996                           0     1647331434         6         22   \n",
              "29997                           0     1647331434         6         22   \n",
              "\n",
              "       TCP_WIN_MAX_IN  TCP_WIN_MAX_OUT  ...  TOTAL_FLOWS_EXP  MIN_IP_PKT_LEN  \\\n",
              "0               64240                0  ...        355777589               0   \n",
              "1               64240                0  ...        355777590               0   \n",
              "2               64240                0  ...        355777591               0   \n",
              "3               64240                0  ...        355777592               0   \n",
              "4               64240                0  ...        355777593               0   \n",
              "...               ...              ...  ...              ...             ...   \n",
              "29993            1024                0  ...        318805705               0   \n",
              "29994            1024                0  ...        318805706               0   \n",
              "29995            1024                0  ...        318805707               0   \n",
              "29996            1024                0  ...        318805708               0   \n",
              "29997            1024                0  ...        318805709               0   \n",
              "\n",
              "       MAX_IP_PKT_LEN  TOTAL_PKTS_EXP  TOTAL_BYTES_EXP  IN_BYTES  IN_PKTS  \\\n",
              "0                   0               0                0        60        1   \n",
              "1                   0               0                0        60        1   \n",
              "2                   0               0                0        60        1   \n",
              "3                   0               0                0        60        1   \n",
              "4                   0               0                0       120        2   \n",
              "...               ...             ...              ...       ...      ...   \n",
              "29993               0               0                0        44        1   \n",
              "29994               0               0                0        44        1   \n",
              "29995               0               0                0        44        1   \n",
              "29996               0               0                0        44        1   \n",
              "29997               0               0                0        44        1   \n",
              "\n",
              "       OUT_BYTES  OUT_PKTS              ALERT  \n",
              "0              0         0  Denial of Service  \n",
              "1              0         0  Denial of Service  \n",
              "2              0         0  Denial of Service  \n",
              "3              0         0  Denial of Service  \n",
              "4              0         0  Denial of Service  \n",
              "...          ...       ...                ...  \n",
              "29993          0         0      Port Scanning  \n",
              "29994         40         1      Port Scanning  \n",
              "29995         40         1      Port Scanning  \n",
              "29996         40         1      Port Scanning  \n",
              "29997         40         1      Port Scanning  \n",
              "\n",
              "[29998 rows x 27 columns]"
            ],
            "text/html": [
              "\n",
              "  <div id=\"df-d4029c4f-f6f3-4fe9-a277-b489776ddd4c\" class=\"colab-df-container\">\n",
              "    <div>\n",
              "<style scoped>\n",
              "    .dataframe tbody tr th:only-of-type {\n",
              "        vertical-align: middle;\n",
              "    }\n",
              "\n",
              "    .dataframe tbody tr th {\n",
              "        vertical-align: top;\n",
              "    }\n",
              "\n",
              "    .dataframe thead th {\n",
              "        text-align: right;\n",
              "    }\n",
              "</style>\n",
              "<table border=\"1\" class=\"dataframe\">\n",
              "  <thead>\n",
              "    <tr style=\"text-align: right;\">\n",
              "      <th></th>\n",
              "      <th>FLOW_ID</th>\n",
              "      <th>L4_SRC_PORT</th>\n",
              "      <th>L4_DST_PORT</th>\n",
              "      <th>FIRST_SWITCHED</th>\n",
              "      <th>FLOW_DURATION_MILLISECONDS</th>\n",
              "      <th>LAST_SWITCHED</th>\n",
              "      <th>PROTOCOL</th>\n",
              "      <th>TCP_FLAGS</th>\n",
              "      <th>TCP_WIN_MAX_IN</th>\n",
              "      <th>TCP_WIN_MAX_OUT</th>\n",
              "      <th>...</th>\n",
              "      <th>TOTAL_FLOWS_EXP</th>\n",
              "      <th>MIN_IP_PKT_LEN</th>\n",
              "      <th>MAX_IP_PKT_LEN</th>\n",
              "      <th>TOTAL_PKTS_EXP</th>\n",
              "      <th>TOTAL_BYTES_EXP</th>\n",
              "      <th>IN_BYTES</th>\n",
              "      <th>IN_PKTS</th>\n",
              "      <th>OUT_BYTES</th>\n",
              "      <th>OUT_PKTS</th>\n",
              "      <th>ALERT</th>\n",
              "    </tr>\n",
              "  </thead>\n",
              "  <tbody>\n",
              "    <tr>\n",
              "      <th>0</th>\n",
              "      <td>355777589</td>\n",
              "      <td>35264</td>\n",
              "      <td>443</td>\n",
              "      <td>1647510508</td>\n",
              "      <td>0</td>\n",
              "      <td>1647510508</td>\n",
              "      <td>6</td>\n",
              "      <td>2</td>\n",
              "      <td>64240</td>\n",
              "      <td>0</td>\n",
              "      <td>...</td>\n",
              "      <td>355777589</td>\n",
              "      <td>0</td>\n",
              "      <td>0</td>\n",
              "      <td>0</td>\n",
              "      <td>0</td>\n",
              "      <td>60</td>\n",
              "      <td>1</td>\n",
              "      <td>0</td>\n",
              "      <td>0</td>\n",
              "      <td>Denial of Service</td>\n",
              "    </tr>\n",
              "    <tr>\n",
              "      <th>1</th>\n",
              "      <td>355777590</td>\n",
              "      <td>35266</td>\n",
              "      <td>443</td>\n",
              "      <td>1647510508</td>\n",
              "      <td>0</td>\n",
              "      <td>1647510508</td>\n",
              "      <td>6</td>\n",
              "      <td>2</td>\n",
              "      <td>64240</td>\n",
              "      <td>0</td>\n",
              "      <td>...</td>\n",
              "      <td>355777590</td>\n",
              "      <td>0</td>\n",
              "      <td>0</td>\n",
              "      <td>0</td>\n",
              "      <td>0</td>\n",
              "      <td>60</td>\n",
              "      <td>1</td>\n",
              "      <td>0</td>\n",
              "      <td>0</td>\n",
              "      <td>Denial of Service</td>\n",
              "    </tr>\n",
              "    <tr>\n",
              "      <th>2</th>\n",
              "      <td>355777591</td>\n",
              "      <td>35268</td>\n",
              "      <td>443</td>\n",
              "      <td>1647510508</td>\n",
              "      <td>0</td>\n",
              "      <td>1647510508</td>\n",
              "      <td>6</td>\n",
              "      <td>2</td>\n",
              "      <td>64240</td>\n",
              "      <td>0</td>\n",
              "      <td>...</td>\n",
              "      <td>355777591</td>\n",
              "      <td>0</td>\n",
              "      <td>0</td>\n",
              "      <td>0</td>\n",
              "      <td>0</td>\n",
              "      <td>60</td>\n",
              "      <td>1</td>\n",
              "      <td>0</td>\n",
              "      <td>0</td>\n",
              "      <td>Denial of Service</td>\n",
              "    </tr>\n",
              "    <tr>\n",
              "      <th>3</th>\n",
              "      <td>355777592</td>\n",
              "      <td>35270</td>\n",
              "      <td>443</td>\n",
              "      <td>1647510508</td>\n",
              "      <td>0</td>\n",
              "      <td>1647510508</td>\n",
              "      <td>6</td>\n",
              "      <td>2</td>\n",
              "      <td>64240</td>\n",
              "      <td>0</td>\n",
              "      <td>...</td>\n",
              "      <td>355777592</td>\n",
              "      <td>0</td>\n",
              "      <td>0</td>\n",
              "      <td>0</td>\n",
              "      <td>0</td>\n",
              "      <td>60</td>\n",
              "      <td>1</td>\n",
              "      <td>0</td>\n",
              "      <td>0</td>\n",
              "      <td>Denial of Service</td>\n",
              "    </tr>\n",
              "    <tr>\n",
              "      <th>4</th>\n",
              "      <td>355777593</td>\n",
              "      <td>34928</td>\n",
              "      <td>443</td>\n",
              "      <td>1647510507</td>\n",
              "      <td>1000</td>\n",
              "      <td>1647510508</td>\n",
              "      <td>6</td>\n",
              "      <td>2</td>\n",
              "      <td>64240</td>\n",
              "      <td>0</td>\n",
              "      <td>...</td>\n",
              "      <td>355777593</td>\n",
              "      <td>0</td>\n",
              "      <td>0</td>\n",
              "      <td>0</td>\n",
              "      <td>0</td>\n",
              "      <td>120</td>\n",
              "      <td>2</td>\n",
              "      <td>0</td>\n",
              "      <td>0</td>\n",
              "      <td>Denial of Service</td>\n",
              "    </tr>\n",
              "    <tr>\n",
              "      <th>...</th>\n",
              "      <td>...</td>\n",
              "      <td>...</td>\n",
              "      <td>...</td>\n",
              "      <td>...</td>\n",
              "      <td>...</td>\n",
              "      <td>...</td>\n",
              "      <td>...</td>\n",
              "      <td>...</td>\n",
              "      <td>...</td>\n",
              "      <td>...</td>\n",
              "      <td>...</td>\n",
              "      <td>...</td>\n",
              "      <td>...</td>\n",
              "      <td>...</td>\n",
              "      <td>...</td>\n",
              "      <td>...</td>\n",
              "      <td>...</td>\n",
              "      <td>...</td>\n",
              "      <td>...</td>\n",
              "      <td>...</td>\n",
              "      <td>...</td>\n",
              "    </tr>\n",
              "    <tr>\n",
              "      <th>29993</th>\n",
              "      <td>318805705</td>\n",
              "      <td>45200</td>\n",
              "      <td>23901</td>\n",
              "      <td>1647331434</td>\n",
              "      <td>0</td>\n",
              "      <td>1647331434</td>\n",
              "      <td>6</td>\n",
              "      <td>2</td>\n",
              "      <td>1024</td>\n",
              "      <td>0</td>\n",
              "      <td>...</td>\n",
              "      <td>318805705</td>\n",
              "      <td>0</td>\n",
              "      <td>0</td>\n",
              "      <td>0</td>\n",
              "      <td>0</td>\n",
              "      <td>44</td>\n",
              "      <td>1</td>\n",
              "      <td>0</td>\n",
              "      <td>0</td>\n",
              "      <td>Port Scanning</td>\n",
              "    </tr>\n",
              "    <tr>\n",
              "      <th>29994</th>\n",
              "      <td>318805706</td>\n",
              "      <td>45200</td>\n",
              "      <td>61826</td>\n",
              "      <td>1647331434</td>\n",
              "      <td>0</td>\n",
              "      <td>1647331434</td>\n",
              "      <td>6</td>\n",
              "      <td>22</td>\n",
              "      <td>1024</td>\n",
              "      <td>0</td>\n",
              "      <td>...</td>\n",
              "      <td>318805706</td>\n",
              "      <td>0</td>\n",
              "      <td>0</td>\n",
              "      <td>0</td>\n",
              "      <td>0</td>\n",
              "      <td>44</td>\n",
              "      <td>1</td>\n",
              "      <td>40</td>\n",
              "      <td>1</td>\n",
              "      <td>Port Scanning</td>\n",
              "    </tr>\n",
              "    <tr>\n",
              "      <th>29995</th>\n",
              "      <td>318805707</td>\n",
              "      <td>45200</td>\n",
              "      <td>10308</td>\n",
              "      <td>1647331434</td>\n",
              "      <td>0</td>\n",
              "      <td>1647331434</td>\n",
              "      <td>6</td>\n",
              "      <td>22</td>\n",
              "      <td>1024</td>\n",
              "      <td>0</td>\n",
              "      <td>...</td>\n",
              "      <td>318805707</td>\n",
              "      <td>0</td>\n",
              "      <td>0</td>\n",
              "      <td>0</td>\n",
              "      <td>0</td>\n",
              "      <td>44</td>\n",
              "      <td>1</td>\n",
              "      <td>40</td>\n",
              "      <td>1</td>\n",
              "      <td>Port Scanning</td>\n",
              "    </tr>\n",
              "    <tr>\n",
              "      <th>29996</th>\n",
              "      <td>318805708</td>\n",
              "      <td>45200</td>\n",
              "      <td>9210</td>\n",
              "      <td>1647331434</td>\n",
              "      <td>0</td>\n",
              "      <td>1647331434</td>\n",
              "      <td>6</td>\n",
              "      <td>22</td>\n",
              "      <td>1024</td>\n",
              "      <td>0</td>\n",
              "      <td>...</td>\n",
              "      <td>318805708</td>\n",
              "      <td>0</td>\n",
              "      <td>0</td>\n",
              "      <td>0</td>\n",
              "      <td>0</td>\n",
              "      <td>44</td>\n",
              "      <td>1</td>\n",
              "      <td>40</td>\n",
              "      <td>1</td>\n",
              "      <td>Port Scanning</td>\n",
              "    </tr>\n",
              "    <tr>\n",
              "      <th>29997</th>\n",
              "      <td>318805709</td>\n",
              "      <td>45200</td>\n",
              "      <td>65515</td>\n",
              "      <td>1647331434</td>\n",
              "      <td>0</td>\n",
              "      <td>1647331434</td>\n",
              "      <td>6</td>\n",
              "      <td>22</td>\n",
              "      <td>1024</td>\n",
              "      <td>0</td>\n",
              "      <td>...</td>\n",
              "      <td>318805709</td>\n",
              "      <td>0</td>\n",
              "      <td>0</td>\n",
              "      <td>0</td>\n",
              "      <td>0</td>\n",
              "      <td>44</td>\n",
              "      <td>1</td>\n",
              "      <td>40</td>\n",
              "      <td>1</td>\n",
              "      <td>Port Scanning</td>\n",
              "    </tr>\n",
              "  </tbody>\n",
              "</table>\n",
              "<p>29998 rows × 27 columns</p>\n",
              "</div>\n",
              "    <div class=\"colab-df-buttons\">\n",
              "\n",
              "  <div class=\"colab-df-container\">\n",
              "    <button class=\"colab-df-convert\" onclick=\"convertToInteractive('df-d4029c4f-f6f3-4fe9-a277-b489776ddd4c')\"\n",
              "            title=\"Convert this dataframe to an interactive table.\"\n",
              "            style=\"display:none;\">\n",
              "\n",
              "  <svg xmlns=\"http://www.w3.org/2000/svg\" height=\"24px\" viewBox=\"0 -960 960 960\">\n",
              "    <path d=\"M120-120v-720h720v720H120Zm60-500h600v-160H180v160Zm220 220h160v-160H400v160Zm0 220h160v-160H400v160ZM180-400h160v-160H180v160Zm440 0h160v-160H620v160ZM180-180h160v-160H180v160Zm440 0h160v-160H620v160Z\"/>\n",
              "  </svg>\n",
              "    </button>\n",
              "\n",
              "  <style>\n",
              "    .colab-df-container {\n",
              "      display:flex;\n",
              "      gap: 12px;\n",
              "    }\n",
              "\n",
              "    .colab-df-convert {\n",
              "      background-color: #E8F0FE;\n",
              "      border: none;\n",
              "      border-radius: 50%;\n",
              "      cursor: pointer;\n",
              "      display: none;\n",
              "      fill: #1967D2;\n",
              "      height: 32px;\n",
              "      padding: 0 0 0 0;\n",
              "      width: 32px;\n",
              "    }\n",
              "\n",
              "    .colab-df-convert:hover {\n",
              "      background-color: #E2EBFA;\n",
              "      box-shadow: 0px 1px 2px rgba(60, 64, 67, 0.3), 0px 1px 3px 1px rgba(60, 64, 67, 0.15);\n",
              "      fill: #174EA6;\n",
              "    }\n",
              "\n",
              "    .colab-df-buttons div {\n",
              "      margin-bottom: 4px;\n",
              "    }\n",
              "\n",
              "    [theme=dark] .colab-df-convert {\n",
              "      background-color: #3B4455;\n",
              "      fill: #D2E3FC;\n",
              "    }\n",
              "\n",
              "    [theme=dark] .colab-df-convert:hover {\n",
              "      background-color: #434B5C;\n",
              "      box-shadow: 0px 1px 3px 1px rgba(0, 0, 0, 0.15);\n",
              "      filter: drop-shadow(0px 1px 2px rgba(0, 0, 0, 0.3));\n",
              "      fill: #FFFFFF;\n",
              "    }\n",
              "  </style>\n",
              "\n",
              "    <script>\n",
              "      const buttonEl =\n",
              "        document.querySelector('#df-d4029c4f-f6f3-4fe9-a277-b489776ddd4c button.colab-df-convert');\n",
              "      buttonEl.style.display =\n",
              "        google.colab.kernel.accessAllowed ? 'block' : 'none';\n",
              "\n",
              "      async function convertToInteractive(key) {\n",
              "        const element = document.querySelector('#df-d4029c4f-f6f3-4fe9-a277-b489776ddd4c');\n",
              "        const dataTable =\n",
              "          await google.colab.kernel.invokeFunction('convertToInteractive',\n",
              "                                                    [key], {});\n",
              "        if (!dataTable) return;\n",
              "\n",
              "        const docLinkHtml = 'Like what you see? Visit the ' +\n",
              "          '<a target=\"_blank\" href=https://colab.research.google.com/notebooks/data_table.ipynb>data table notebook</a>'\n",
              "          + ' to learn more about interactive tables.';\n",
              "        element.innerHTML = '';\n",
              "        dataTable['output_type'] = 'display_data';\n",
              "        await google.colab.output.renderOutput(dataTable, element);\n",
              "        const docLink = document.createElement('div');\n",
              "        docLink.innerHTML = docLinkHtml;\n",
              "        element.appendChild(docLink);\n",
              "      }\n",
              "    </script>\n",
              "  </div>\n",
              "\n",
              "\n",
              "<div id=\"df-bdb7783b-1cfa-44bf-acaf-f4ae30354008\">\n",
              "  <button class=\"colab-df-quickchart\" onclick=\"quickchart('df-bdb7783b-1cfa-44bf-acaf-f4ae30354008')\"\n",
              "            title=\"Suggest charts\"\n",
              "            style=\"display:none;\">\n",
              "\n",
              "<svg xmlns=\"http://www.w3.org/2000/svg\" height=\"24px\"viewBox=\"0 0 24 24\"\n",
              "     width=\"24px\">\n",
              "    <g>\n",
              "        <path d=\"M19 3H5c-1.1 0-2 .9-2 2v14c0 1.1.9 2 2 2h14c1.1 0 2-.9 2-2V5c0-1.1-.9-2-2-2zM9 17H7v-7h2v7zm4 0h-2V7h2v10zm4 0h-2v-4h2v4z\"/>\n",
              "    </g>\n",
              "</svg>\n",
              "  </button>\n",
              "\n",
              "<style>\n",
              "  .colab-df-quickchart {\n",
              "      --bg-color: #E8F0FE;\n",
              "      --fill-color: #1967D2;\n",
              "      --hover-bg-color: #E2EBFA;\n",
              "      --hover-fill-color: #174EA6;\n",
              "      --disabled-fill-color: #AAA;\n",
              "      --disabled-bg-color: #DDD;\n",
              "  }\n",
              "\n",
              "  [theme=dark] .colab-df-quickchart {\n",
              "      --bg-color: #3B4455;\n",
              "      --fill-color: #D2E3FC;\n",
              "      --hover-bg-color: #434B5C;\n",
              "      --hover-fill-color: #FFFFFF;\n",
              "      --disabled-bg-color: #3B4455;\n",
              "      --disabled-fill-color: #666;\n",
              "  }\n",
              "\n",
              "  .colab-df-quickchart {\n",
              "    background-color: var(--bg-color);\n",
              "    border: none;\n",
              "    border-radius: 50%;\n",
              "    cursor: pointer;\n",
              "    display: none;\n",
              "    fill: var(--fill-color);\n",
              "    height: 32px;\n",
              "    padding: 0;\n",
              "    width: 32px;\n",
              "  }\n",
              "\n",
              "  .colab-df-quickchart:hover {\n",
              "    background-color: var(--hover-bg-color);\n",
              "    box-shadow: 0 1px 2px rgba(60, 64, 67, 0.3), 0 1px 3px 1px rgba(60, 64, 67, 0.15);\n",
              "    fill: var(--button-hover-fill-color);\n",
              "  }\n",
              "\n",
              "  .colab-df-quickchart-complete:disabled,\n",
              "  .colab-df-quickchart-complete:disabled:hover {\n",
              "    background-color: var(--disabled-bg-color);\n",
              "    fill: var(--disabled-fill-color);\n",
              "    box-shadow: none;\n",
              "  }\n",
              "\n",
              "  .colab-df-spinner {\n",
              "    border: 2px solid var(--fill-color);\n",
              "    border-color: transparent;\n",
              "    border-bottom-color: var(--fill-color);\n",
              "    animation:\n",
              "      spin 1s steps(1) infinite;\n",
              "  }\n",
              "\n",
              "  @keyframes spin {\n",
              "    0% {\n",
              "      border-color: transparent;\n",
              "      border-bottom-color: var(--fill-color);\n",
              "      border-left-color: var(--fill-color);\n",
              "    }\n",
              "    20% {\n",
              "      border-color: transparent;\n",
              "      border-left-color: var(--fill-color);\n",
              "      border-top-color: var(--fill-color);\n",
              "    }\n",
              "    30% {\n",
              "      border-color: transparent;\n",
              "      border-left-color: var(--fill-color);\n",
              "      border-top-color: var(--fill-color);\n",
              "      border-right-color: var(--fill-color);\n",
              "    }\n",
              "    40% {\n",
              "      border-color: transparent;\n",
              "      border-right-color: var(--fill-color);\n",
              "      border-top-color: var(--fill-color);\n",
              "    }\n",
              "    60% {\n",
              "      border-color: transparent;\n",
              "      border-right-color: var(--fill-color);\n",
              "    }\n",
              "    80% {\n",
              "      border-color: transparent;\n",
              "      border-right-color: var(--fill-color);\n",
              "      border-bottom-color: var(--fill-color);\n",
              "    }\n",
              "    90% {\n",
              "      border-color: transparent;\n",
              "      border-bottom-color: var(--fill-color);\n",
              "    }\n",
              "  }\n",
              "</style>\n",
              "\n",
              "  <script>\n",
              "    async function quickchart(key) {\n",
              "      const quickchartButtonEl =\n",
              "        document.querySelector('#' + key + ' button');\n",
              "      quickchartButtonEl.disabled = true;  // To prevent multiple clicks.\n",
              "      quickchartButtonEl.classList.add('colab-df-spinner');\n",
              "      try {\n",
              "        const charts = await google.colab.kernel.invokeFunction(\n",
              "            'suggestCharts', [key], {});\n",
              "      } catch (error) {\n",
              "        console.error('Error during call to suggestCharts:', error);\n",
              "      }\n",
              "      quickchartButtonEl.classList.remove('colab-df-spinner');\n",
              "      quickchartButtonEl.classList.add('colab-df-quickchart-complete');\n",
              "    }\n",
              "    (() => {\n",
              "      let quickchartButtonEl =\n",
              "        document.querySelector('#df-bdb7783b-1cfa-44bf-acaf-f4ae30354008 button');\n",
              "      quickchartButtonEl.style.display =\n",
              "        google.colab.kernel.accessAllowed ? 'block' : 'none';\n",
              "    })();\n",
              "  </script>\n",
              "</div>\n",
              "\n",
              "    </div>\n",
              "  </div>\n"
            ],
            "application/vnd.google.colaboratory.intrinsic+json": {
              "type": "dataframe"
            }
          },
          "metadata": {},
          "execution_count": 10
        }
      ],
      "source": [
        "data.dropna()"
      ]
    },
    {
      "cell_type": "code",
      "execution_count": null,
      "metadata": {
        "id": "CMrDbhoFDwDg"
      },
      "outputs": [],
      "source": [
        "import numpy as np\n",
        "data.replace([np.inf, -np.inf], np.nan, inplace=True)\n",
        "data.dropna(inplace=True)"
      ]
    },
    {
      "cell_type": "code",
      "execution_count": null,
      "metadata": {
        "id": "IYIz02WkD7K-",
        "colab": {
          "base_uri": "https://localhost:8080/"
        },
        "outputId": "c3a47951-8652-4679-989b-334d0539de51"
      },
      "outputs": [
        {
          "output_type": "execute_result",
          "data": {
            "text/plain": [
              "(29998, 27)"
            ]
          },
          "metadata": {},
          "execution_count": 12
        }
      ],
      "source": [
        "data.shape"
      ]
    },
    {
      "cell_type": "code",
      "execution_count": null,
      "metadata": {
        "id": "N3fWTpBc9X92"
      },
      "outputs": [],
      "source": [
        "X = data.iloc[:,:-1]\n",
        "Y = data.iloc[:,-1]"
      ]
    },
    {
      "cell_type": "code",
      "execution_count": null,
      "metadata": {
        "id": "Fhofrw49ShyB",
        "colab": {
          "base_uri": "https://localhost:8080/"
        },
        "outputId": "e5cbef01-04db-461a-9584-bdefb2da0e71"
      },
      "outputs": [
        {
          "output_type": "execute_result",
          "data": {
            "text/plain": [
              "26"
            ]
          },
          "metadata": {},
          "execution_count": 14
        }
      ],
      "source": [
        "X.shape[1]"
      ]
    },
    {
      "cell_type": "code",
      "execution_count": null,
      "metadata": {
        "id": "fqsY-9JYBeoN",
        "colab": {
          "base_uri": "https://localhost:8080/",
          "height": 689
        },
        "outputId": "fa9091af-01c6-4b62-a0b6-f67da4368f9f"
      },
      "outputs": [
        {
          "output_type": "stream",
          "name": "stderr",
          "text": [
            "/usr/local/lib/python3.10/dist-packages/sklearn/feature_selection/_univariate_selection.py:112: UserWarning: Features [18 19 20 21] are constant.\n",
            "  warnings.warn(\"Features %s are constant.\" % constant_features_idx, UserWarning)\n",
            "/usr/local/lib/python3.10/dist-packages/sklearn/feature_selection/_univariate_selection.py:113: RuntimeWarning: invalid value encountered in divide\n",
            "  f = msb / msw\n"
          ]
        },
        {
          "output_type": "display_data",
          "data": {
            "text/plain": [
              "<Figure size 1200x600 with 1 Axes>"
            ],
            "image/png": "[encoded data removed]"
          },
          "metadata": {}
        },
        {
          "output_type": "execute_result",
          "data": {
            "text/plain": [
              "\"for i in range(len(fs.scores_)):\\n  print('Feature %d: %f' % (i, fs.scores_[i]))\\nplt.bar([i for i in range(len(fs.scores_))], fs.scores_)\\nplt.show()\""
            ],
            "application/vnd.google.colaboratory.intrinsic+json": {
              "type": "string"
            }
          },
          "metadata": {},
          "execution_count": 15
        }
      ],
      "source": [
        "from sklearn.datasets import make_classification\n",
        "import matplotlib.pyplot as plt\n",
        "from sklearn.feature_selection import SelectKBest\n",
        "from sklearn.feature_selection import f_classif\n",
        "\n",
        "# define feature selection\n",
        "fs = SelectKBest(score_func=f_classif, k='all')\n",
        "# apply feature selection\n",
        "fs.fit(X,Y)\n",
        "X_train_fs=fs.transform(X)\n",
        "# Get the scores and feature indices\n",
        "scores = fs.scores_\n",
        "feature_indices = range(len(scores))\n",
        "\n",
        "# Plot all features and their scores\n",
        "plt.figure(figsize=(12, 6))  # Adjust the figure size as needed\n",
        "plt.bar(feature_indices, scores)\n",
        "plt.xlabel('Feature Index')\n",
        "plt.ylabel('Feature Importance (F-score)')\n",
        "plt.title('Feature Importance Scores')\n",
        "plt.show()\n",
        "\n",
        "'''for i in range(len(fs.scores_)):\n",
        "  print('Feature %d: %f' % (i, fs.scores_[i]))\n",
        "plt.bar([i for i in range(len(fs.scores_))], fs.scores_)\n",
        "plt.show()'''"
      ]
    },
    {
      "cell_type": "code",
      "execution_count": null,
      "metadata": {
        "id": "LBU1bFGUHeeq"
      },
      "outputs": [],
      "source": [
        "features = data.columns"
      ]
    },
    {
      "cell_type": "code",
      "execution_count": null,
      "metadata": {
        "id": "Z9JkopvDHjwD"
      },
      "outputs": [],
      "source": [
        "top_features = []\n",
        "for i in range(len(fs.scores_)):\n",
        "  if fs.scores_[i] > 10000 :\n",
        "    top_features.append(i)"
      ]
    },
    {
      "cell_type": "code",
      "execution_count": null,
      "metadata": {
        "id": "oxCjfhs5JTqv",
        "colab": {
          "base_uri": "https://localhost:8080/"
        },
        "outputId": "68928682-cb46-4829-a9e0-e95429e5d323"
      },
      "outputs": [
        {
          "output_type": "stream",
          "name": "stdout",
          "text": [
            "8\n"
          ]
        }
      ],
      "source": [
        "print(len(top_features))"
      ]
    },
    {
      "cell_type": "code",
      "execution_count": null,
      "metadata": {
        "id": "Ucb0rRnxJmZG",
        "colab": {
          "base_uri": "https://localhost:8080/"
        },
        "outputId": "bd98b81b-ffec-444e-bd10-a5d4c0562bae"
      },
      "outputs": [
        {
          "output_type": "execute_result",
          "data": {
            "text/plain": [
              "['FLOW_ID',\n",
              " 'FIRST_SWITCHED',\n",
              " 'LAST_SWITCHED',\n",
              " 'TCP_WIN_MAX_IN',\n",
              " 'TCP_WIN_MIN_IN',\n",
              " 'TCP_WIN_MSS_IN',\n",
              " 'TCP_WIN_SCALE_IN',\n",
              " 'TOTAL_FLOWS_EXP']"
            ]
          },
          "metadata": {},
          "execution_count": 19
        }
      ],
      "source": [
        "imp_features=[]\n",
        "for i in top_features:\n",
        "    imp_features.append(features[i])\n",
        "imp_features"
      ]
    },
    {
      "cell_type": "code",
      "execution_count": null,
      "metadata": {
        "id": "ZebcU91NKYKe"
      },
      "outputs": [],
      "source": [
        "# taking only the top features\n",
        "X_new=X.iloc[:,top_features]"
      ]
    },
    {
      "cell_type": "code",
      "execution_count": null,
      "metadata": {
        "id": "tIzQPJ4IL4Qq",
        "colab": {
          "base_uri": "https://localhost:8080/"
        },
        "outputId": "51cf3596-0bd1-4f17-984f-909bfcaccb99"
      },
      "outputs": [
        {
          "output_type": "execute_result",
          "data": {
            "text/plain": [
              "(29998, 8)"
            ]
          },
          "metadata": {},
          "execution_count": 21
        }
      ],
      "source": [
        "X_new.shape"
      ]
    },
    {
      "cell_type": "code",
      "execution_count": null,
      "metadata": {
        "id": "Iyrdv_JfMBTk"
      },
      "outputs": [],
      "source": [
        "X=X_new"
      ]
    },
    {
      "cell_type": "code",
      "execution_count": null,
      "metadata": {
        "id": "hu0irGLKSIPr"
      },
      "outputs": [],
      "source": [
        "import os\n",
        "from os.path import join\n",
        "import pandas as pd\n",
        "import numpy as np\n",
        "from tensorflow.keras.utils import plot_model\n",
        "import tensorflow\n",
        "import keras\n",
        "from keras.models import Model, Sequential\n",
        "from keras.preprocessing import image\n",
        "from keras.preprocessing.image import ImageDataGenerator\n",
        "from sklearn.model_selection import train_test_split\n",
        "from keras.layers import Dense, GlobalAveragePooling2D, Flatten,Input, Reshape\n",
        "from keras.layers import Activation, Dropout, Flatten, Dense\n",
        "import seaborn as sns\n",
        "import matplotlib.pyplot as plt\n",
        "from keras.layers import Conv2D\n",
        "from keras.layers import MaxPooling2D\n",
        "from sklearn.metrics import classification_report,confusion_matrix\n",
        "from sklearn.model_selection import cross_val_score\n",
        "from sklearn.model_selection import KFold\n"
      ]
    },
    {
      "cell_type": "code",
      "execution_count": null,
      "metadata": {
        "id": "uSqjMOI8SXD2",
        "colab": {
          "base_uri": "https://localhost:8080/"
        },
        "outputId": "de3dd099-b264-4b42-c0e1-87e1b2406e1f"
      },
      "outputs": [
        {
          "output_type": "stream",
          "name": "stdout",
          "text": [
            "Model: \"model_1\"\n",
            "_________________________________________________________________\n",
            " Layer (type)                Output Shape              Param #   \n",
            "=================================================================\n",
            " input_2 (InputLayer)        [(None, 6, 6, 1)]         0         \n",
            "                                                                 \n",
            " conv2d_2 (Conv2D)           (None, 6, 6, 100)         500       \n",
            "                                                                 \n",
            " max_pooling2d_2 (MaxPoolin  (None, 3, 3, 100)         0         \n",
            " g2D)                                                            \n",
            "                                                                 \n",
            " conv2d_3 (Conv2D)           (None, 3, 3, 50)          20050     \n",
            "                                                                 \n",
            " max_pooling2d_3 (MaxPoolin  (None, 1, 1, 50)          0         \n",
            " g2D)                                                            \n",
            "                                                                 \n",
            " flatten_1 (Flatten)         (None, 50)                0         \n",
            "                                                                 \n",
            " dense_2 (Dense)             (None, 8)                 408       \n",
            "                                                                 \n",
            " dense_3 (Dense)             (None, 4)                 36        \n",
            "                                                                 \n",
            "=================================================================\n",
            "Total params: 20994 (82.01 KB)\n",
            "Trainable params: 20994 (82.01 KB)\n",
            "Non-trainable params: 0 (0.00 Byte)\n",
            "_________________________________________________________________\n"
          ]
        }
      ],
      "source": [
        "inputs= Input(shape=(6,6,1))\n",
        "\n",
        "#defining the model\n",
        "x=Conv2D(100, 2, activation = 'relu', padding='same')(inputs)\n",
        "x=MaxPooling2D((2,2),(2,2))(x)\n",
        "x=Conv2D(50, 2, activation = 'relu', padding='same')(x)\n",
        "x=MaxPooling2D()(x)\n",
        "x=Flatten()(x)\n",
        "x=Dense(8, activation='relu' )(x)\n",
        "predictions = Dense(4, activation='softmax')(x)\n",
        "model = Model(inputs=inputs, outputs=predictions)\n",
        "\n",
        "\n",
        "kf=KFold(n_splits=3, random_state=1, shuffle=True)\n",
        "model.compile(loss=\"categorical_crossentropy\", optimizer=\"adam\", metrics=[\"accuracy\"])\n",
        "model.summary()"
      ]
    },
    {
      "cell_type": "code",
      "execution_count": null,
      "metadata": {
        "id": "U_DC7bvj0sGN"
      },
      "outputs": [],
      "source": [
        "# to resize the inputs\n",
        "result = np.zeros((X_new.shape[0], 36))\n",
        "result[:, :8] = X_new\n",
        "\n",
        "# reshaping dataset\n",
        "result = np.reshape(result, (result.shape[0], 6, 6))\n",
        "result = result[..., tensorflow.newaxis]"
      ]
    },
    {
      "cell_type": "code",
      "execution_count": null,
      "metadata": {
        "id": "qEVJ5XcO1Ron",
        "colab": {
          "base_uri": "https://localhost:8080/"
        },
        "outputId": "16db9d3b-a663-4d48-b395-776b1f63f738"
      },
      "outputs": [
        {
          "output_type": "execute_result",
          "data": {
            "text/plain": [
              "(29998, 6, 6, 1)"
            ]
          },
          "metadata": {},
          "execution_count": 29
        }
      ],
      "source": [
        "result.shape"
      ]
    },
    {
      "cell_type": "code",
      "source": [
        "unique_y = data['ALERT'].unique()\n",
        "print(unique_y)"
      ],
      "metadata": {
        "id": "UYqkcy7EtEZm",
        "colab": {
          "base_uri": "https://localhost:8080/"
        },
        "outputId": "1d077947-e5a0-458c-f0aa-07fde38be372"
      },
      "execution_count": null,
      "outputs": [
        {
          "output_type": "stream",
          "name": "stdout",
          "text": [
            "['Denial of Service' 'Malware' 'None' 'Port Scanning']\n"
          ]
        }
      ]
    },
    {
      "cell_type": "code",
      "execution_count": null,
      "metadata": {
        "id": "42S_2lwM3Z-M",
        "colab": {
          "base_uri": "https://localhost:8080/"
        },
        "outputId": "eb704f19-1ff8-4263-a9b5-45a2bd46af21"
      },
      "outputs": [
        {
          "output_type": "stream",
          "name": "stdout",
          "text": [
            "Requirement already satisfied: keras in /usr/local/lib/python3.10/dist-packages (2.15.0)\n"
          ]
        }
      ],
      "source": [
        "from tensorflow.keras.utils import to_categorical\n",
        "!pip install keras\n",
        "#from keras.utils.np_utils import to_categorical\n",
        "# labels are created using values of Y\n",
        "label = []\n",
        "for i in Y:\n",
        "  if i == \"None\":\n",
        "    label.append(\"0\")\n",
        "  if i == \"Denial of Service\":\n",
        "    label.append(\"1\")\n",
        "  if i == \"Malware\":\n",
        "    label.append(\"2\")\n",
        "  if i == \"Port Scanning\":\n",
        "    label.append(\"3\")\n",
        "\n",
        "label=np.asarray(label)\n",
        "label=to_categorical(label)"
      ]
    },
    {
      "cell_type": "code",
      "execution_count": null,
      "metadata": {
        "id": "3nOX-B0n1cQE"
      },
      "outputs": [],
      "source": [
        "X_train, X_test, y_train, y_test = train_test_split( result, label, test_size=0.2, random_state=42)"
      ]
    },
    {
      "cell_type": "code",
      "execution_count": null,
      "metadata": {
        "id": "DbDAPoEoSd2v",
        "colab": {
          "base_uri": "https://localhost:8080/"
        },
        "outputId": "70969eb3-5c0c-485f-f8e1-25cf0f16e849"
      },
      "outputs": [
        {
          "output_type": "stream",
          "name": "stdout",
          "text": [
            "Epoch 1/5\n",
            "12/12 [==============================] - ETA: 0s - loss: 13183303.0000 - accuracy: 0.3051\n",
            "Epoch 1: val_accuracy improved from -inf to 0.48612, saving model to weights-improvement-01-0.49.hdf5\n",
            "12/12 [==============================] - 7s 291ms/step - loss: 13183303.0000 - accuracy: 0.3051 - val_loss: 1.3857 - val_accuracy: 0.4861\n",
            "Epoch 2/5\n",
            " 1/12 [=>............................] - ETA: 1s - loss: 1.3859 - accuracy: 0.4745"
          ]
        },
        {
          "output_type": "stream",
          "name": "stderr",
          "text": [
            "/usr/local/lib/python3.10/dist-packages/keras/src/engine/training.py:3103: UserWarning: You are saving your model as an HDF5 file via `model.save()`. This file format is considered legacy. We recommend using instead the native Keras format, e.g. `model.save('my_model.keras')`.\n",
            "  saving_api.save_model(\n"
          ]
        },
        {
          "output_type": "stream",
          "name": "stdout",
          "text": [
            "12/12 [==============================] - ETA: 0s - loss: 1.3836 - accuracy: 0.4817\n",
            "Epoch 2: val_accuracy did not improve from 0.48612\n",
            "12/12 [==============================] - 2s 170ms/step - loss: 1.3836 - accuracy: 0.4817 - val_loss: 1.3808 - val_accuracy: 0.4861\n",
            "Epoch 3/5\n",
            "12/12 [==============================] - ETA: 0s - loss: 1.3784 - accuracy: 0.4817\n",
            "Epoch 3: val_accuracy did not improve from 0.48612\n",
            "12/12 [==============================] - 2s 148ms/step - loss: 1.3784 - accuracy: 0.4817 - val_loss: 1.3752 - val_accuracy: 0.4861\n",
            "Epoch 4/5\n",
            "12/12 [==============================] - ETA: 0s - loss: 1.3728 - accuracy: 0.4817\n",
            "Epoch 4: val_accuracy did not improve from 0.48612\n",
            "12/12 [==============================] - 3s 218ms/step - loss: 1.3728 - accuracy: 0.4817 - val_loss: 1.3694 - val_accuracy: 0.4861\n",
            "Epoch 5/5\n",
            "12/12 [==============================] - ETA: 0s - loss: 1.3671 - accuracy: 0.4817\n",
            "Epoch 5: val_accuracy did not improve from 0.48612\n",
            "12/12 [==============================] - 3s 248ms/step - loss: 1.3671 - accuracy: 0.4817 - val_loss: 1.3636 - val_accuracy: 0.4861\n",
            "Epoch 1/5\n",
            "12/12 [==============================] - ETA: 0s - loss: 1.3614 - accuracy: 0.4817\n",
            "Epoch 1: val_accuracy improved from -inf to 0.47618, saving model to weights-improvement-01-0.48.hdf5\n",
            "12/12 [==============================] - 2s 177ms/step - loss: 1.3614 - accuracy: 0.4817 - val_loss: 1.3588 - val_accuracy: 0.4762\n",
            "Epoch 2/5\n",
            "12/12 [==============================] - ETA: 0s - loss: 1.3557 - accuracy: 0.4817\n",
            "Epoch 2: val_accuracy did not improve from 0.47618\n",
            "12/12 [==============================] - 3s 232ms/step - loss: 1.3557 - accuracy: 0.4817 - val_loss: 1.3532 - val_accuracy: 0.4762\n",
            "Epoch 3/5\n",
            "12/12 [==============================] - ETA: 0s - loss: 1.3501 - accuracy: 0.4817\n",
            "Epoch 3: val_accuracy did not improve from 0.47618\n",
            "12/12 [==============================] - 3s 211ms/step - loss: 1.3501 - accuracy: 0.4817 - val_loss: 1.3477 - val_accuracy: 0.4762\n",
            "Epoch 4/5\n",
            "12/12 [==============================] - ETA: 0s - loss: 1.3445 - accuracy: 0.4817\n",
            "Epoch 4: val_accuracy did not improve from 0.47618\n",
            "12/12 [==============================] - 2s 144ms/step - loss: 1.3445 - accuracy: 0.4817 - val_loss: 1.3422 - val_accuracy: 0.4762\n",
            "Epoch 5/5\n",
            "12/12 [==============================] - ETA: 0s - loss: 1.3391 - accuracy: 0.4817\n",
            "Epoch 5: val_accuracy did not improve from 0.47618\n",
            "12/12 [==============================] - 2s 149ms/step - loss: 1.3391 - accuracy: 0.4817 - val_loss: 1.3368 - val_accuracy: 0.4762\n",
            "Epoch 1/5\n",
            "12/12 [==============================] - ETA: 0s - loss: 1.3336 - accuracy: 0.4817\n",
            "Epoch 1: val_accuracy improved from -inf to 0.48294, saving model to weights-improvement-01-0.48.hdf5\n",
            "12/12 [==============================] - 2s 155ms/step - loss: 1.3336 - accuracy: 0.4817 - val_loss: 1.3312 - val_accuracy: 0.4829\n",
            "Epoch 2/5\n",
            "12/12 [==============================] - ETA: 0s - loss: 1.3283 - accuracy: 0.4817\n",
            "Epoch 2: val_accuracy did not improve from 0.48294\n",
            "12/12 [==============================] - 2s 146ms/step - loss: 1.3283 - accuracy: 0.4817 - val_loss: 1.3260 - val_accuracy: 0.4829\n",
            "Epoch 3/5\n",
            "12/12 [==============================] - ETA: 0s - loss: 1.3230 - accuracy: 0.4817\n",
            "Epoch 3: val_accuracy did not improve from 0.48294\n",
            "12/12 [==============================] - 2s 145ms/step - loss: 1.3230 - accuracy: 0.4817 - val_loss: 1.3209 - val_accuracy: 0.4829\n",
            "Epoch 4/5\n",
            "12/12 [==============================] - ETA: 0s - loss: 1.3179 - accuracy: 0.4817\n",
            "Epoch 4: val_accuracy did not improve from 0.48294\n",
            "12/12 [==============================] - 2s 206ms/step - loss: 1.3179 - accuracy: 0.4817 - val_loss: 1.3158 - val_accuracy: 0.4829\n",
            "Epoch 5/5\n",
            "12/12 [==============================] - ETA: 0s - loss: 1.3128 - accuracy: 0.4817\n",
            "Epoch 5: val_accuracy did not improve from 0.48294\n",
            "12/12 [==============================] - 3s 258ms/step - loss: 1.3128 - accuracy: 0.4817 - val_loss: 1.3109 - val_accuracy: 0.4829\n"
          ]
        }
      ],
      "source": [
        "# training the CNN\n",
        "from keras.callbacks import ModelCheckpoint\n",
        "for train_index, test_index in kf.split(X_train):\n",
        "  training_X,testing_X=X_train[train_index], X_train[test_index]\n",
        "  training_Y, testing_Y=y_train[train_index], y_train[test_index]\n",
        "  filepath=\"weights-improvement-{epoch:02d}-{val_accuracy:.2f}.hdf5\"\n",
        "  checkpoint = ModelCheckpoint(filepath, monitor='val_accuracy', verbose=1, save_best_only=True, mode='max')\n",
        "  callbacks_list = [checkpoint]\n",
        "  history=model.fit(X_train,y_train, epochs=5, batch_size=2000, verbose=1, validation_data=(testing_X, testing_Y), callbacks=callbacks_list)\n",
        "\n",
        "model.save('ids-cnn1.h5')"
      ]
    },
    {
      "cell_type": "code",
      "execution_count": null,
      "metadata": {
        "id": "Y1kGfMeqaFK3",
        "colab": {
          "base_uri": "https://localhost:8080/",
          "height": 472
        },
        "outputId": "98a296eb-0e93-4a91-f300-839e56bb3a40"
      },
      "outputs": [
        {
          "output_type": "display_data",
          "data": {
            "text/plain": [
              "<Figure size 640x480 with 1 Axes>"
            ],
            "image/png": "[encoded data removed]"
          },
          "metadata": {}
        }
      ],
      "source": [
        "plt.plot(history.history['accuracy'])\n",
        "plt.plot(history.history['val_accuracy'])\n",
        "plt.title('model accuracy')\n",
        "plt.ylim(0.6, 1.0)\n",
        "plt.ylabel('accuracy')\n",
        "plt.xlabel('epoch')\n",
        "plt.legend(['train', 'test'], loc='upper left')\n",
        "plt.show()"
      ]
    },
    {
      "cell_type": "code",
      "execution_count": null,
      "metadata": {
        "id": "MJHighzUICLR",
        "colab": {
          "base_uri": "https://localhost:8080/"
        },
        "outputId": "9f8cdc73-d058-4c7d-fed8-39234daa959b"
      },
      "outputs": [
        {
          "output_type": "stream",
          "name": "stdout",
          "text": [
            "Test accuracy: 0.49000000953674316\n"
          ]
        }
      ],
      "source": [
        "model.load_weights('ids-cnn1.h5')\n",
        "score = model.evaluate(X_test, y_test, verbose=0)\n",
        "print(f'Test accuracy: {score[1]}')"
      ]
    },
    {
      "cell_type": "code",
      "source": [
        "import numpy as np\n",
        "import tensorflow as tf\n",
        "#from sklearn.metrics import precision_score, recall_score, f1_score\n",
        "# Make predictions on the test set\n",
        "y_pred = model.predict(X_test)\n",
        "y_pred_classes = np.argmax(y_pred, axis=1)\n",
        "y_true_classes = np.argmax(y_test, axis=1)\n",
        "# Specify the intrusion type you want to find\n",
        "intrusion_type_to_find = 1 # Change this to the desired intrusion type\n",
        "\n",
        "# Display the number of intrusions and normal cases\n",
        "unique_labels, label_counts = np.unique(y_true_classes, return_counts=True)\n",
        "label_mapping = {i: f\"Intrusion {i}\" for i in unique_labels}\n",
        "label_mapping[0] = \"None\"\n",
        "label_mapping[1] = \"Denial Of Service\"\n",
        "label_mapping[2] = \"Malware\"\n",
        "label_mapping[3] = \"Portscanning\"\n",
        "\n",
        "for label, count in zip(unique_labels, label_counts):\n",
        "    if label in label_mapping:\n",
        "        print(f\"{label_mapping[label]}: {count} cases\")\n",
        "# Find and print the count of rows where the specified intrusion type is detected\n",
        "intrusion_rows = np.where((y_true_classes == intrusion_type_to_find) & (y_pred_classes == intrusion_type_to_find))[0]\n",
        "print(f\"Number of rows where Intrusion {intrusion_type_to_find} is detected: {len(intrusion_rows)}\")\n",
        "\n",
        "# Choose to display a subset of row numbers for better readability\n",
        "if len(intrusion_rows) > 0:\n",
        "    print(f\"Sample of row numbers where Intrusion {intrusion_type_to_find} is detected:\")\n",
        "    print(intrusion_rows[:2573])  # Display the first 10 row numbers as an example\n",
        "\n",
        "\n",
        "# Calculate metrics\n",
        "'''precision = precision_score(y_true_classes, y_pred_classes, average='weighted')\n",
        "recall = recall_score(y_true_classes, y_pred_classes, average='weighted')\n",
        "f1 = f1_score(y_true_classes, y_pred_classes, average='weighted')\n",
        "\n",
        "print(f'Precision: {precision:.4f}')\n",
        "print(f'Recall: {recall:.4f}')\n",
        "print(f'F-measure: {f1:.4f}')'''\n"
      ],
      "metadata": {
        "id": "vzgJhCxZqUNl",
        "colab": {
          "base_uri": "https://localhost:8080/",
          "height": 209
        },
        "outputId": "e0087a02-94f2-426c-f3b9-91229ebf8f22"
      },
      "execution_count": null,
      "outputs": [
        {
          "output_type": "stream",
          "name": "stdout",
          "text": [
            "188/188 [==============================] - 1s 2ms/step\n",
            "None: 1977 cases\n",
            "Denial Of Service: 2940 cases\n",
            "Malware: 125 cases\n",
            "Portscanning: 958 cases\n",
            "Number of rows where Intrusion 1 is detected: 2940\n",
            "Sample of row numbers where Intrusion 1 is detected:\n",
            "[   0    4    5 ... 5220 5221 5222]\n"
          ]
        },
        {
          "output_type": "execute_result",
          "data": {
            "text/plain": [
              "\"precision = precision_score(y_true_classes, y_pred_classes, average='weighted')\\nrecall = recall_score(y_true_classes, y_pred_classes, average='weighted')\\nf1 = f1_score(y_true_classes, y_pred_classes, average='weighted')\\n\\nprint(f'Precision: {precision:.4f}')\\nprint(f'Recall: {recall:.4f}')\\nprint(f'F-measure: {f1:.4f}')\""
            ],
            "application/vnd.google.colaboratory.intrinsic+json": {
              "type": "string"
            }
          },
          "metadata": {},
          "execution_count": 36
        }
      ]
    },
    {
      "cell_type": "code",
      "source": [
        "conf_matrix = confusion_matrix(y_true_classes, y_pred_classes)"
      ],
      "metadata": {
        "id": "y2Tq6cvxqUAg"
      },
      "execution_count": null,
      "outputs": []
    },
    {
      "cell_type": "code",
      "source": [
        "print(conf_matrix)"
      ],
      "metadata": {
        "colab": {
          "base_uri": "https://localhost:8080/"
        },
        "id": "grX4KckP1POR",
        "outputId": "695cb049-22f0-459d-8e1b-ad97aff28cd5"
      },
      "execution_count": null,
      "outputs": [
        {
          "output_type": "stream",
          "name": "stdout",
          "text": [
            "[[   0 1977    0    0]\n",
            " [   0 2940    0    0]\n",
            " [   0  125    0    0]\n",
            " [   0  958    0    0]]\n"
          ]
        }
      ]
    },
    {
      "cell_type": "code",
      "source": [
        "!pip install tabulate\n",
        "from tabulate import tabulate\n",
        "#Calculate TN, TP, FP, FN\n",
        "# Calculate TP, TN, FP, FN\n",
        "tp_list = [conf_matrix[i][i] for i in range(len(conf_matrix))]\n",
        "tn_list = [sum(sum(row for row in conf_matrix)) - (sum(conf_matrix[i]) + sum(conf_matrix[j][i] for j in range(len(conf_matrix)))) + conf_matrix[i][i] for i in range(len(conf_matrix))]\n",
        "fp_list = [sum(conf_matrix[j][i] for j in range(len(conf_matrix))) - conf_matrix[i][i] for i in range(len(conf_matrix))]\n",
        "fn_list = [sum(conf_matrix[i]) - conf_matrix[i][i] for i in range(len(conf_matrix))]\n",
        "\n",
        "\n",
        "# Calculate totals\n",
        "TP = sum(tp_list)\n",
        "TN = sum(tn_list)\n",
        "FP = sum(fp_list)\n",
        "FN = sum(fn_list)\n",
        "\n",
        "\n",
        "\n",
        "\n",
        "print(\"True Positives (TP):\", TP)\n",
        "print(\"True Negatives (TN):\", TN)\n",
        "print(\"False Positives (FP):\", FP)\n",
        "print(\"False Negatives (FN):\", FN)\n",
        "\n",
        "# Create a table to display the results\n",
        "results_table = [\n",
        "    [\"Class\", \"Predicted: No\", \"Predicted: Yes\", \"Total\"],\n",
        "    [\"Actual: No\", f\"TN={TN}\", f\"FP={FP}\", f\"{TN + FP}\"],\n",
        "    [\"Actual: Yes\", f\"FN={FN}\", f\"TP={TP}\", f\"{FN + TP}\"],\n",
        "    [\"Total\", f\"{TN + FN}\", f\"{FP + TP}\", f\"{TN + FP + FN + TP}\"]\n",
        "]\n",
        "\n",
        "# Print the results using tabulate\n",
        "table = tabulate(results_table, headers=\"firstrow\", tablefmt=\"grid\")\n",
        "print(table)\n",
        "accuracy = (TP + TN) / (TP + TN + FP + FN)\n",
        "Precision = TP / (TP + FP)\n",
        "\n",
        "Recall = TP / (TP + FN)\n",
        "F1_Score = 2 * (Precision * Recall) / (Precision + Recall)\n",
        "\n",
        "\n",
        "#F1 Score = 2 * (Precision * Recall) / (Precision + Recall)\n",
        "print(\"Precision\",Precision)\n",
        "print(\"Recall:\",Recall)\n",
        "print(\"F1_score:\",F1_Score)\n",
        "\n",
        "\n",
        "\n",
        "print(\"Accuracy:\", accuracy)\n"
      ],
      "metadata": {
        "id": "stpg9kOKqTvk",
        "colab": {
          "base_uri": "https://localhost:8080/"
        },
        "outputId": "2cf3c25c-0c6c-4149-d190-83c30d79aa49"
      },
      "execution_count": null,
      "outputs": [
        {
          "output_type": "stream",
          "name": "stdout",
          "text": [
            "Requirement already satisfied: tabulate in /usr/local/lib/python3.10/dist-packages (0.9.0)\n",
            "True Positives (TP): 2940\n",
            "True Negatives (TN): 14940\n",
            "False Positives (FP): 3060\n",
            "False Negatives (FN): 3060\n",
            "+-------------+-----------------+------------------+---------+\n",
            "| Class       | Predicted: No   | Predicted: Yes   |   Total |\n",
            "+=============+=================+==================+=========+\n",
            "| Actual: No  | TN=14940        | FP=3060          |   18000 |\n",
            "+-------------+-----------------+------------------+---------+\n",
            "| Actual: Yes | FN=3060         | TP=2940          |    6000 |\n",
            "+-------------+-----------------+------------------+---------+\n",
            "| Total       | 18000           | 6000             |   24000 |\n",
            "+-------------+-----------------+------------------+---------+\n",
            "Precision 0.49\n",
            "Recall: 0.49\n",
            "F1_score: 0.49\n",
            "Accuracy: 0.745\n"
          ]
        }
      ]
    },
    {
      "cell_type": "code",
      "source": [
        "import numpy as np\n",
        "import matplotlib.pyplot as plt\n",
        "import seaborn as sns\n",
        "\n",
        "# Confusion matrix data\n",
        "confusion_matrix_data = np.array([[15158, 76],\n",
        "                                  [76, 5002]])\n",
        "\n",
        "# Create a heatmap using seaborn\n",
        "plt.figure(figsize=(8, 6))\n",
        "sns.set(font_scale=1.2)\n",
        "sns.heatmap(confusion_matrix_data, annot=True, fmt=\"d\", cmap=\"Blues\",\n",
        "            xticklabels=[\"Predicted Negative\", \"Predicted Positive\"],\n",
        "            yticklabels=[\"Actual Negative\", \"Actual Positive\"])\n",
        "plt.xlabel(\"Predicted\")\n",
        "plt.ylabel(\"Actual\")\n",
        "plt.title(\"Confusion Matrix for simargl2022\")\n",
        "plt.show()"
      ],
      "metadata": {
        "id": "faQUevE8sehG"
      },
      "execution_count": null,
      "outputs": []
    },
    {
      "cell_type": "code",
      "source": [
        "import matplotlib.pyplot as plt\n",
        "\n",
        "# Define your data\n",
        "models = [\"CNN\", \"Autoencoders\"]\n",
        "metrics = [\"Precision\", \"Recall\", \"F1 Score\"]\n",
        "values = [\n",
        "    [96.12, 96.12, 96.12],\n",
        "    [93.33, 100, 96.5]\n",
        "]\n",
        "\n",
        "# Set the width of the bars\n",
        "bar_width = 0.35\n",
        "\n",
        "# Set the positions of the bars on the x-axis\n",
        "x = range(len(metrics))\n",
        "\n",
        "# Create the bar graph\n",
        "for i, model in enumerate(models):\n",
        "    plt.bar([pos + i * bar_width for pos in x], values[i], bar_width, label=model)\n",
        "\n",
        "# Set x-axis labels\n",
        "plt.xlabel(\"Performance Metrics\")\n",
        "plt.xticks([pos + bar_width for pos in x], metrics)\n",
        "\n",
        "# Set y-axis label\n",
        "plt.ylabel(\"Values\")\n",
        "\n",
        "# Set the legend below the bar graph\n",
        "plt.legend(loc='upper center', bbox_to_anchor=(0.5, -0.2))\n",
        "\n",
        "# Print metric values on top of the bars\n",
        "for i, model in enumerate(models):\n",
        "    for j, value in enumerate(values[i]):\n",
        "        plt.text(j + i * bar_width, value, str(value), ha='center', va='bottom')\n",
        "\n",
        "# Show the plot\n",
        "plt.show()\n"
      ],
      "metadata": {
        "id": "Lw7YcRE027co"
      },
      "execution_count": null,
      "outputs": []
    },
    {
      "cell_type": "code",
      "source": [
        "import matplotlib.pyplot as plt\n",
        "\n",
        "# Define your data\n",
        "models = [\"CNN\", \"Autoencoders\"]\n",
        "accuracy_values = [98.06, 93.8]\n",
        "\n",
        "# Set the width of the bars\n",
        "bar_width = 0.35\n",
        "\n",
        "# Set the positions of the bars on the x-axis\n",
        "x = range(len(models))\n",
        "\n",
        "# Create the bar graph\n",
        "plt.bar(x, accuracy_values, bar_width)\n",
        "\n",
        "# Set x-axis labels\n",
        "plt.xlabel(\"Models\")\n",
        "plt.xticks(x, models)\n",
        "\n",
        "# Set y-axis label\n",
        "plt.ylabel(\"Accuracy\")\n",
        "for i, v in enumerate(accuracy_values):\n",
        "    plt.text(i, v, str(v), ha='center', va='bottom')\n",
        "\n",
        "# Show the plot\n",
        "plt.show()"
      ],
      "metadata": {
        "id": "kbtm31yHfUSK"
      },
      "execution_count": null,
      "outputs": []
    }
  ],
  "metadata": {
    "colab": {
      "provenance": []
    },
    "kernelspec": {
      "display_name": "Python 3",
      "language": "python",
      "name": "python3"
    },
    "language_info": {
      "codemirror_mode": {
        "name": "ipython",
        "version": 3
      },
      "file_extension": ".py",
      "mimetype": "text/x-python",
      "name": "python",
      "nbconvert_exporter": "python",
      "pygments_lexer": "ipython3",
      "version": "3.6.9"
    }
  },
  "nbformat": 4,
  "nbformat_minor": 0
}